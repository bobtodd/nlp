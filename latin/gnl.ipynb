{
 "metadata": {
  "name": "",
  "signature": "sha256:6538280ae49ce362cb775efffd2f36beef492845155c1bc86c0b9bf165c07836"
 },
 "nbformat": 3,
 "nbformat_minor": 0,
 "worksheets": [
  {
   "cells": [
    {
     "cell_type": "markdown",
     "metadata": {},
     "source": [
      "# GNL: Glossarium Nuntiorum Latinorum"
     ]
    },
    {
     "cell_type": "markdown",
     "metadata": {},
     "source": [
      "## Origin"
     ]
    },
    {
     "cell_type": "markdown",
     "metadata": {},
     "source": [
      "This is a little script designed to scrape the volcabulary of Finnish Radio's (YLE's) Latin news program *Nuntii Latini*.  The idea is to take the vocabulary as tabulated nicely in [this page](http://oppiminen.yle.fi/kielet-kulttuurit/latina/nuntii-latini), save it as a `tsv` (tab-separated-value) file, and import this into [Anki](http://ankisrs.net/) to create Latin flash cards.\n",
      "\n",
      "Sounds simple enough, but nothing is ever that easy when you're programming..."
     ]
    },
    {
     "cell_type": "markdown",
     "metadata": {},
     "source": [
      "## Plan"
     ]
    },
    {
     "cell_type": "markdown",
     "metadata": {},
     "source": [
      "The basic data I want is in the form of tables.  So in the ideal world, I'd just have to open the web page, use [BeautifulSoup](http://www.crummy.com/software/BeautifulSoup/bs4/doc/) to pull out the tables, and then load the table data into a `tsv` file.  That would give me a honkin' big table of Latin words, together with their Finnish, English, and German meanings.\n",
      "\n",
      "But if I just do that, I'll lose any association of the words with the radio broadcast in which they appeared.  So I'd like to collect two extra pieces of data to associate with each word:\n",
      "\n",
      "* the date of occurrence;\n",
      "* the link to the corresponding radio broadcast.\n",
      "\n",
      "Unfortunately, *Nuntii Latini* places these two bits of data in `<p>... </p>` tags *outside* the tables (they are, visually speaking, the *dividers* between tables).  So that makes gathering these bits of information a bit trickier.\n",
      "\n",
      "The way the page content seems to be organized is as follows:"
     ]
    },
    {
     "cell_type": "markdown",
     "metadata": {},
     "source": [
      "```html\n",
      "<body class=\"html not-front not-logged-in one-sidebar sidebar-first page-node page-node- page-node-47654 page-type-article lang-fi site-name-oppiminen--ylefi section-kielet-kulttuurit site-name-hidden oppimix gecko win fs-medium bs-n bb-n mb-dd rc-0 rct-0 ia-r bf-a snf-a ssf-a ptf-a ntf-a ctf-a btf-a hs-caps active-context--article active-context--oppiminen jquery-once-1-processed\" data-twttr-rendered=\"true\">\n",
      "  <div id=\"page\" class=\"container\">\n",
      "    <div id=\"columns\" class=\"no-menu-bar\">\n",
      "      <div class=\"columns-inner clearfix\">\n",
      "        <div id=\"content-column\">\n",
      "          <div class=\"content-inner\">\n",
      "            <section id=\"main-content\" role=\"main\">\n",
      "              <div id=\"content\">\n",
      "                <div class=\"region region-content\">\n",
      "                  <div id=\"block-system-main\" class=\"block block-system block-odd block-count-4 block-region-content\">\n",
      "                    <div class=\"block-inner clearfix\">\n",
      "                      <div class=\"block-content content no-title\">\n",
      "                        <article id=\"article-47654\" class=\"article article-type-article odd article-full clearfix\" role=\"article\" typeof=\"sioc:Item foaf:Document\" about=\"/kielet-kulttuurit/latina/nuntii-latini\">\n",
      "                          <div class=\"article-content\">\n",
      "                            <div class=\"field field-name-body field-type-text-with-summary field-label-hidden view-mode-full\">\n",
      "                              <div class=\"field-items\">\n",
      "                                <div class=\"field-item even\" property=\"content:encoded\">\n",
      "                                  <p> </p>\n",
      "                                  <p>\n",
      "                                    <span style=\"font-size: 1.125em; font-weight: bold;\">15.5.2015</span>\n",
      "                                  </p>\n",
      "                                  <p>\n",
      "                                    <span style=\"font-size: 1.375em;\">\n",
      "                                      <a class=\"audio-link\" target=\"_blank\" href=\"http://areena.yle.fi/1-2722008\">Nuntii Latini: Dies victoriae celebratus</a>\n",
      "                                    </span>\n",
      "                                  </p>\n",
      "                                  <p>\n",
      "                                    <span style=\"font-size: 1.375em;\">Glossarium programmatis</span>\n",
      "                                  </p>\n",
      "                                  <table border=\"0\" style=\"width: 652px; height: 608px;\">\n",
      "                                    <tbody>\n",
      "                                      <tr>\n",
      "                                        <td>\n",
      "                                          <strong>Latina</strong>\n",
      "                                        </td>\n",
      "                                        <td>\n",
      "                                          <strong>suomi</strong>\n",
      "                                        </td>\n",
      "                                        <td>\n",
      "                                          <strong>English</strong>\n",
      "                                        </td>\n",
      "                                        <td>\n",
      "                                          <strong>Deutsch</strong>\n",
      "                                        </td>\n",
      "                                      </tr>\n",
      "                                      <tr>\n",
      "                                        <td>data pers\u014dn\u0101lia, n pl</td>\n",
      "                                        <td>henkil\u00f6tiedot</td>\n",
      "                                        <td>personal data</td>\n",
      "                                        <td>Personendaten</td>\n",
      "                                      </tr>\n",
      "                                      <tr>\n",
      "                                        <td>di\u0113s vict\u014driae, m</td>\n",
      "                                        <td>voitonp\u00e4iv\u00e4</td>\n",
      "                                        <td>Victory Day</td>\n",
      "                                        <td>Siegestag</td>\n",
      "                                      </tr>\n",
      "                                      <tr>\n",
      "                                        <td>gladius, i\u012b, m</td>\n",
      "                                        <td>miekka</td>\n",
      "                                        <td>sword</td>\n",
      "                                        <td>Schwert</td>\n",
      "                                      </tr>\n",
      "                                    </tbody>\n",
      "                                  </table>\n",
      "                                </div>\n",
      "                              </div>\n",
      "                            </div>\n",
      "                          </div>\n",
      "                        </article>\n",
      "                      </div>\n",
      "                    </div>\n",
      "                  </div>\n",
      "                </div>\n",
      "              </div>\n",
      "            </section>\n",
      "          </div>\n",
      "        </div>\n",
      "      </div>\n",
      "    </div>\n",
      "  </div>\n",
      "</body>\n",
      "```"
     ]
    },
    {
     "cell_type": "markdown",
     "metadata": {},
     "source": [
      "That's a terrible mess of nested `<div>`s, etc.\n",
      "\n",
      "So perhaps the best way to tackle this will be to see if BeautifulSoup can go straight to the table in the center, and then just pick out the two nearest preceding `<span>`s.  The next-to-nearest will give the link to the audio file, and the one preceding that will give the date of the broadcast."
     ]
    },
    {
     "cell_type": "markdown",
     "metadata": {},
     "source": [
      "## Dependencies"
     ]
    },
    {
     "cell_type": "markdown",
     "metadata": {},
     "source": [
      "* [BeautifulSoup](http://www.crummy.com/software/BeautifulSoup/bs4/doc/)"
     ]
    },
    {
     "cell_type": "markdown",
     "metadata": {},
     "source": [
      "## References"
     ]
    },
    {
     "cell_type": "markdown",
     "metadata": {},
     "source": [
      "[This Stack Overflow thread](http://codereview.stackexchange.com/questions/60769/scrape-an-html-table-with-python) is a nice discussion of how one might organize some code to scrape tables from a web page."
     ]
    },
    {
     "cell_type": "code",
     "collapsed": false,
     "input": [],
     "language": "python",
     "metadata": {},
     "outputs": []
    }
   ],
   "metadata": {}
  }
 ]
}