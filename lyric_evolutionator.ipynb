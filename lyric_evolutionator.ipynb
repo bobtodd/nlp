{
 "metadata": {
  "name": "",
  "signature": "sha256:60ea26acd196a76c7b442ea88c06294dd1175d16d4ed2972077968d63eb5264b"
 },
 "nbformat": 3,
 "nbformat_minor": 0,
 "worksheets": [
  {
   "cells": [
    {
     "cell_type": "markdown",
     "metadata": {},
     "source": [
      "# Hip Hop Lyric Evolutionator"
     ]
    },
    {
     "cell_type": "markdown",
     "metadata": {},
     "source": [
      "## Origin"
     ]
    },
    {
     "cell_type": "markdown",
     "metadata": {},
     "source": [
      "Hip Hop used to be one of my all-time favorite music genres.  But I recently listened to a list of the current Top 100 Hip Hop songs, and the lyrics appeared so devoid of content, so obsessed with booty and bling, so stinkin' crude, that it got me thinking: am I just old and out of touch, or has Hip Hop really changed in its content?  This project is one way of trying to answer the question."
     ]
    },
    {
     "cell_type": "markdown",
     "metadata": {},
     "source": [
      "## Description"
     ]
    },
    {
     "cell_type": "markdown",
     "metadata": {},
     "source": [
      "My plan is to look at the lyrics of the top Hip Hop songs over some range of time (whatever range I can find with available data bases), figure out the most common (content-ful) words, and look at how these words change over time."
     ]
    },
    {
     "cell_type": "markdown",
     "metadata": {},
     "source": [
      "## Plan"
     ]
    },
    {
     "cell_type": "markdown",
     "metadata": {},
     "source": [
      "Here's the basic plan of action:\n",
      "\n",
      "* Get lists of top Hip Hop songs over the years\n",
      "* Get lyrics for each song\n",
      "* Tokenize lyrics (remove stop-words)\n",
      "* Calculate frequency of each token\n",
      "* Restrict to highest frequency tokens\n",
      "* Repeat for each song in a given year\n",
      "* Create word clouds for each year\n",
      "* Splice word clouds year by year into a movie"
     ]
    },
    {
     "cell_type": "markdown",
     "metadata": {},
     "source": [
      "## Dependencies"
     ]
    },
    {
     "cell_type": "markdown",
     "metadata": {},
     "source": [
      "* [Beautiful Soup](http://www.crummy.com/software/BeautifulSoup/bs4/doc/)\n",
      "* [NLTK](http://www.nltk.org/)"
     ]
    },
    {
     "cell_type": "markdown",
     "metadata": {},
     "source": [
      "## Sources"
     ]
    },
    {
     "cell_type": "markdown",
     "metadata": {},
     "source": [
      "* [Rap Lyrics Database](http://research.blackyouthproject.com/raplyrics/)"
     ]
    },
    {
     "cell_type": "markdown",
     "metadata": {},
     "source": [
      "## Code"
     ]
    },
    {
     "cell_type": "markdown",
     "metadata": {},
     "source": [
      "### Set Up"
     ]
    },
    {
     "cell_type": "markdown",
     "metadata": {},
     "source": [
      "We need to start out by importing the tools we'll need to munge data.  Mainly that's Beautiful Soup and NLTK."
     ]
    },
    {
     "cell_type": "code",
     "collapsed": false,
     "input": [
      "from bs4 import BeautifulSoup\n",
      "import nltk\n",
      "import urllib.request\n",
      "import re\n",
      "import pprint\n",
      "import pickle\n",
      "import os\n",
      "import copy\n",
      "import operator"
     ],
     "language": "python",
     "metadata": {},
     "outputs": [],
     "prompt_number": 1
    },
    {
     "cell_type": "markdown",
     "metadata": {},
     "source": [
      "### Data"
     ]
    },
    {
     "cell_type": "markdown",
     "metadata": {},
     "source": [
      "Next we actually need to pull down a list of the songs we'll be looking at. The next few cells set up some parameters that will be useful."
     ]
    },
    {
     "cell_type": "code",
     "collapsed": false,
     "input": [
      "rapurl  = \"http://research.blackyouthproject.com/raplyrics/\"\n",
      "baseurl = rapurl + \"song/?/\"\n",
      "#download_now = True\n",
      "download_now = False"
     ],
     "language": "python",
     "metadata": {},
     "outputs": [],
     "prompt_number": 2
    },
    {
     "cell_type": "code",
     "collapsed": false,
     "input": [
      "homedir   = os.path.expanduser(\"~\")\n",
      "curdir    = os.curdir\n",
      "datadir   = curdir + '/' + 'data'\n",
      "tmpdir    = curdir + '/' + 'tmp'\n",
      "dfilename = 'lyrics.p'\n",
      "saveddata = datadir + '/' + dfilename"
     ],
     "language": "python",
     "metadata": {},
     "outputs": [],
     "prompt_number": 3
    },
    {
     "cell_type": "code",
     "collapsed": false,
     "input": [
      "# To make the output of Python dicts\n",
      "# a little less taxing on the eyes\n",
      "pp = pprint.PrettyPrinter(indent=4)"
     ],
     "language": "python",
     "metadata": {},
     "outputs": [],
     "prompt_number": 4
    },
    {
     "cell_type": "markdown",
     "metadata": {},
     "source": [
      "Here we start to encapsulate some of the logic in functions.  The point is, we need to scrape the web to get the song lyrics.  But once we've done that and saved the results, we don't need to do it again.  So we'll create some functions that do the dirty work, and then we'll only call them if we actually need to download.\n",
      "\n",
      "As it turns out, the main page of the Rap Lyrics project has links to the songs encoded directly in the HTML.  So we can just get the links to the songs straight away."
     ]
    },
    {
     "cell_type": "code",
     "collapsed": false,
     "input": [
      "def get_song_list(rappage=\"http://research.blackyouthproject.com/raplyrics/\"):\n",
      "    soup = BeautifulSoup(urllib.request.urlopen(rappage))\n",
      "    return soup.find(id=\"song_list\")"
     ],
     "language": "python",
     "metadata": {},
     "outputs": [],
     "prompt_number": 5
    },
    {
     "cell_type": "code",
     "collapsed": false,
     "input": [
      "songlist = None\n",
      "if download_now:\n",
      "    songlist = get_song_list()\n",
      "    # print(songlist.prettify())"
     ],
     "language": "python",
     "metadata": {},
     "outputs": [],
     "prompt_number": 6
    },
    {
     "cell_type": "markdown",
     "metadata": {},
     "source": [
      "To get the lyrics to the individual songs, we need to go to the individual song pages.  Each has a separate URL, so we scrape that from the HTML of the main page.  While we're at it, we take the opportunity to get the song name an artist.  We pile all this info into a Python `dict`, with the Rap Lyrics data base ID as the key for each song."
     ]
    },
    {
     "cell_type": "code",
     "collapsed": false,
     "input": [
      "def get_song_links(songlst):\n",
      "    # songlst must be a BeautifulSoup object\n",
      "    \n",
      "    # Get link to each song from 'href'\n",
      "    # Also get song title and artist,\n",
      "    # pack these into 3-element lists\n",
      "    linksdata = [[element.a.get('href'), \\\n",
      "                  element.a.get_text(), \\\n",
      "                  re.split('by ', element.get_text())[-1] \\\n",
      "                  ] \\\n",
      "                     for element in songlst.find_all('li')]\n",
      "    \n",
      "    # Create a data base in memory of (key, value) pairs,\n",
      "    # where\n",
      "    #   key   = song number in Rap Lyrics data base\n",
      "    #   value = a dictionary with song title and artist name\n",
      "    lnks = {}\n",
      "    for lst in linksdata:\n",
      "        songnumber = re.findall('\\d+$', lst[0])[-1]\n",
      "        lnks[songnumber] = {'title':lst[1], 'artist':lst[-1]}\n",
      "    \n",
      "    return lnks"
     ],
     "language": "python",
     "metadata": {},
     "outputs": [],
     "prompt_number": 7
    },
    {
     "cell_type": "code",
     "collapsed": false,
     "input": [
      "links = None\n",
      "if songlist:\n",
      "    links = get_song_links(songlist)\n",
      "    # print(links)"
     ],
     "language": "python",
     "metadata": {},
     "outputs": [],
     "prompt_number": 8
    },
    {
     "cell_type": "markdown",
     "metadata": {},
     "source": [
      "Now we're ready to scrape the lyrics.  This involves going to each page, searching for the `div` containing the lyrics, and saving the text.  We also get the song's year of release by scraping the last four digits of the last line of the `song_details`."
     ]
    },
    {
     "cell_type": "code",
     "collapsed": false,
     "input": [
      "def get_lyrics(lnks,\n",
      "               url='http://research.blackyouthproject.com/raplyrics/song/?/',\n",
      "               maximum=5000,\n",
      "               verbose=False):\n",
      "    # We'll be modifying the dictionary lnks that's passed to the function\n",
      "    # So as to not break anything outside the function, we'll do a deep copy\n",
      "    lks = copy.deepcopy(lnks)\n",
      "    \n",
      "    count = 0\n",
      "    for key in lks.keys():\n",
      "        songurl = url + key\n",
      "        songpage = urllib.request.urlopen(songurl)\n",
      "        if songpage:\n",
      "            songsoup = BeautifulSoup(songpage)\n",
      "        else:\n",
      "            continue\n",
      "    \n",
      "        frontmatter = songsoup.find_all('p', class_=\"song_details\")\n",
      "\n",
      "        if frontmatter:\n",
      "            year = re.findall('\\d{1,4}$', frontmatter[0].text)\n",
      "            words = songsoup.find_all('div', class_='lyrics')\n",
      "            lks[key]['year'] = year[0]\n",
      "            lks[key]['lyrics'] = words[0].text\n",
      "    \n",
      "        if count > maximum:\n",
      "            break\n",
      "    \n",
      "        if verbose and (count%100 == 0):\n",
      "            print('Downloaded {} songs'.format(count))\n",
      "    \n",
      "        count += 1\n",
      "    \n",
      "    return lks"
     ],
     "language": "python",
     "metadata": {},
     "outputs": [],
     "prompt_number": 9
    },
    {
     "cell_type": "code",
     "collapsed": false,
     "input": [
      "# pp.pprint(links)"
     ],
     "language": "python",
     "metadata": {},
     "outputs": [],
     "prompt_number": 10
    },
    {
     "cell_type": "markdown",
     "metadata": {},
     "source": [
      "Once we've scraped all the song lyrics and loaded them into a Python `dict`, we'll want to save that `dict` for later use.  To save the object structure and reduce file size, we'll pickle the data."
     ]
    },
    {
     "cell_type": "code",
     "collapsed": false,
     "input": [
      "def save_data(lnks, filename=dfilename, folder=datadir):\n",
      "    if not os.path.isdir(folder):\n",
      "        os.makedirs(folder)\n",
      "    \n",
      "    savedfile = folder + '/' + filename\n",
      "    pickle.dump( lnks, open(savedfile, 'wb') )"
     ],
     "language": "python",
     "metadata": {},
     "outputs": [],
     "prompt_number": 11
    },
    {
     "cell_type": "markdown",
     "metadata": {},
     "source": [
      "So if we need to download, we'll start the process and save the result.  Otherwise, we'll assume the process has already been done, and we'll just unpickle the data from the previous run."
     ]
    },
    {
     "cell_type": "code",
     "collapsed": false,
     "input": [
      "lyrics = None\n",
      "if download_now:\n",
      "    lyrics = get_lyrics(links, maximum=5000, verbose=True)\n",
      "    save_data(lyrics)\n",
      "else:\n",
      "    lyrics = pickle.load( open(saveddata, 'rb') )"
     ],
     "language": "python",
     "metadata": {},
     "outputs": [],
     "prompt_number": 12
    },
    {
     "cell_type": "markdown",
     "metadata": {},
     "source": [
      "That should do it.  We should now have a data base of song lyrics in the form of a (nested) Python dictionary.  The data for a typical song should look like this:\n",
      "\n",
      "    {\n",
      "      '89':\n",
      "          {\n",
      "              'title': 'Dear Mama/Old School',\n",
      "              'artist': '2Pac',\n",
      "              'year': '1995',\n",
      "              'lyrics': 'Artist: 2Pac\n",
      "                  Album: Me Against the World\n",
      "                  Song: Dear Mama\n",
      "                  Typed by: OHHLA Webmaster DJ Flash\n",
      "                  You are appreciated\n",
      "                  Verse One: 2Pac\n",
      "                  When I was young me and my mama had beef\n",
      "                  Seventeen years old kicked out on the streets\n",
      "                  ...'\n",
      "          }\n",
      "      ...\n",
      "    }\n",
      "\n",
      "Hopefully you get the gist.  One thing to keep in mind is that some song data (artist, album, etc.) is also included in the lyrics.  Unfortunately this is neither consistently present nor consistently written when included throughout the songs in the data base.  So there's no easy way to get rid of it.  However if we end up doing statistics on the lyrics, we can remove these words from consideration."
     ]
    },
    {
     "cell_type": "code",
     "collapsed": false,
     "input": [
      "# Minor sanity check\n",
      "songnumbers = list(lyrics.keys())\n",
      "for song in (songnumbers[0], songnumbers[-1]):\n",
      "    pp.pprint(lyrics[song])"
     ],
     "language": "python",
     "metadata": {},
     "outputs": [
      {
       "output_type": "stream",
       "stream": "stdout",
       "text": [
        "{   'artist': 'Outkast',\n",
        "    'lyrics': '\\r\\n'\n",
        "              'Artist: OutkastAlbum:  ATLiensSong:   Elevators (Me & '\n",
        "              'You)Verse One: AndreOne for the money yes uhh two for the '\n",
        "              'showA couple of years ago on Headland and DeloweWas the start '\n",
        "              'of somethin goodWhere me and my nigga rodes the MARTA, '\n",
        "              'through the hoodJust tryin ta find that hookupNow everyday we '\n",
        "              'look up at the ceilingWatchin ceiling fans go around tryin ta '\n",
        "              'catch that feelinoff instrumental, had my pencil, and plus my '\n",
        "              'paperWe caught the 86 Lithonia headed to DecaturWriting '\n",
        "              'rhymes tryin ta find our spot off in that lightLight off in '\n",
        "              'that spot, known that we could rockDoin the hole in the wall '\n",
        "              'clubs, this shit here must stopLike freeze, we makin the '\n",
        "              \"crowd move but we not makin no G'sAnd that's a nonoVerse Two: \"\n",
        "              'Big BoiYeah, uhh, check itAhh one two, ahh one two doe, '\n",
        "              \"niggazin the Cadillac they call us went from Player's Ball to \"\n",
        "              'ballersPuttin the South up on the map was like Little Rock to '\n",
        "              'banginNiggaz say motherfuck that playin, they payinWe stay in '\n",
        "              'layin vo-cals, locals done made it with them big boysup in '\n",
        "              'dis industry, Outkast yea dem niggaz they makin big noiseOver '\n",
        "              'a million sold to this day, niggaz they take it '\n",
        "              \"lightlyNinety-six gon be that year that all y'all playa \"\n",
        "              'haters can bite me...around this bitchChorus: repeat 2XMe and '\n",
        "              'you, your momma and your cousin tooRollin down the strip on '\n",
        "              'voguesComin up slammin Cadillac doz (doors)Verse Three: Big '\n",
        "              'BoiBack in the day when I was younger, hungerLookin to fill '\n",
        "              \"me belly with that Rally's, bullshit, pull shitoff like it \"\n",
        "              'was supposed to be pulledFull as a tick I was, stoned like '\n",
        "              'white boysSmokin them white golds before them blunts got '\n",
        "              \"krunk, chunky assespasses gettin thrown like Hail Mary's and \"\n",
        "              'they lookin like Halle BerrySo so fine, intertwined, but we '\n",
        "              \"ain't sippin wineWe's just chillin, I'm the rabid villain, \"\n",
        "              \"and I'm so highSmokin freely, me Lil B, Greet, Mon and \"\n",
        "              'ShugAnd my little brother James, thangs changed in the '\n",
        "              'hoodwhere I live at, them rats know, mama I want to sing '\n",
        "              \"butMama I want to trick, and mama I'm suckin dick, nowWe \"\n",
        "              'movin on up in da world like elevatorsMe and the crew we '\n",
        "              'pimps like eighty-twoMe and you like Tony Toni ToneLike this '\n",
        "              'Eastpointe and we goneChorusVerse Four: AndreGot stopped at '\n",
        "              'the mall the other dayHeard a call from the other waythat I '\n",
        "              'just came from, some nigga was sayin somethintalkin bout \"Hey '\n",
        "              'man, you remember me from school?\" smoke someNaw not really '\n",
        "              'but he kept smilin like a clownfacial expression lookin '\n",
        "              'sillyAnd he kept askin me, what kind of car you drive, I know '\n",
        "              \"you paidI know y'all got buku of hoes from all them songs \"\n",
        "              \"that y'all done madeAnd I replied that I had been goin \"\n",
        "              'through tha same thing that he hadTrue I got more fans than '\n",
        "              'the average man but not enough loot to last meto the end of '\n",
        "              'the week, I live by the beat like you live check to checkIf '\n",
        "              \"you don't move yo' foot then I don't eat, so we like neck to \"\n",
        "              'neckYes we done come a long way like them Slim ass '\n",
        "              \"cigarettesfrom Virginia, this ain't gon stop so we just gonna \"\n",
        "              'continueChorus',\n",
        "    'title': 'Elevators (Me & You)',\n",
        "    'year': '1996'}\n",
        "{   'artist': 'Labba, Ilacoin & Black Rob',\n",
        "    'lyrics': '\\n',\n",
        "    'title': 'By A Stranger',\n",
        "    'year': '2000'}\n"
       ]
      }
     ],
     "prompt_number": 13
    },
    {
     "cell_type": "markdown",
     "metadata": {},
     "source": [
      "### Text Mining"
     ]
    },
    {
     "cell_type": "markdown",
     "metadata": {},
     "source": [
      "Now we've got the raw data.  It's time to dive in and start munging data.  What's the plan?  We ultimately want to look at how the list of most frequent words changes over time.  This means we need to do something like the following:\n",
      "\n",
      "* Organize songs by year\n",
      "* For each year:\n",
      "    * Put all the lyrics into one continuous text\n",
      "    * Eliminate stop-words\n",
      "    * Calculate word frequencies\n",
      "    * Create word-cloud of top 100 words\n",
      "\n",
      "I think that's the basic procedure.  NLTK should handle the word frequencies, and based on failures to install stupidly outdated tag-cloud packages for Python, I'll have to figure out some magic to handle the word clouds.  Perhaps I can follow [this homegrown tag cloud generator](http://homework.nwsnet.de/releases/b2a8/) which seems to work for Python 3.\n",
      "\n",
      "Maybe I should dish it off to Ruby?\n",
      "\n",
      "Or maybe JavaScript with [D3](http://d3js.org/) and [this library](https://github.com/jasondavies/d3-cloud) as described in [this blog post](http://www.brettdangerfield.com/post/realtime_data_tag_cloud/).  In fact, [this IPython notebook](http://nbviewer.ipython.org/gist/z-m-k/4484816/ipyD3sample.ipynb) shows how to use D3 within an IPython notebook."
     ]
    },
    {
     "cell_type": "code",
     "collapsed": false,
     "input": [
      "def remove_stopwords(text):\n",
      "    stopwords = nltk.corpus.stopwords.words('english')\n",
      "    textlist = text.split()\n",
      "    content = []\n",
      "    for word in textlist:\n",
      "        if word not in stopwords:\n",
      "            content.append(word)\n",
      "    return ' '.join(content)"
     ],
     "language": "python",
     "metadata": {},
     "outputs": [],
     "prompt_number": 14
    },
    {
     "cell_type": "code",
     "collapsed": false,
     "input": [
      "def text_by_year(data, verbose=False):\n",
      "    years = sorted(set([data[key]['year'] for key in data.keys()]))\n",
      "    if verbose:\n",
      "        print('Years contained in this data set:\\n', years)\n",
      "    \n",
      "    text = {}\n",
      "    for year in years:\n",
      "        stitched = []\n",
      "        \n",
      "        # Grab all the song lyrics for that year\n",
      "        # and put them in a list, each song being one element\n",
      "        for key in data.keys():\n",
      "            if data[key]['year'] == year:\n",
      "                usefulwords = remove_stopwords(data[key]['lyrics'])\n",
      "                stitched.append(usefulwords)\n",
      "        \n",
      "        # Create one string containing all the lyrics for that year\n",
      "        text[year] = ' '.join(stitched)\n",
      "    \n",
      "    return text"
     ],
     "language": "python",
     "metadata": {},
     "outputs": [],
     "prompt_number": 15
    },
    {
     "cell_type": "markdown",
     "metadata": {},
     "source": [
      "Now we should be in a position to actually look at some word frequencies."
     ]
    },
    {
     "cell_type": "code",
     "collapsed": false,
     "input": [
      "yearlylyrics = text_by_year(lyrics, verbose=True)"
     ],
     "language": "python",
     "metadata": {},
     "outputs": [
      {
       "output_type": "stream",
       "stream": "stdout",
       "text": [
        "Years contained in this data set:\n",
        " ['1989', '1990', '1991', '1992', '1993', '1994', '1995', '1996', '1997', '1998', '1999', '2000', '2001', '2002', '2003', '2004', '2005', '2006', '2007', '2008', '2009']\n"
       ]
      }
     ],
     "prompt_number": 16
    },
    {
     "cell_type": "code",
     "collapsed": false,
     "input": [
      "# pp.pprint(yearlylyrics['1989'])"
     ],
     "language": "python",
     "metadata": {},
     "outputs": [],
     "prompt_number": 17
    },
    {
     "cell_type": "code",
     "collapsed": false,
     "input": [
      "yearlyfreqs = [(year, nltk.FreqDist(yearlylyrics[year])) for year in yearlylyrics.keys()]"
     ],
     "language": "python",
     "metadata": {},
     "outputs": [],
     "prompt_number": 18
    },
    {
     "cell_type": "code",
     "collapsed": false,
     "input": [
      "for (year, fdist) in yearlyfreqs:\n",
      "    vocab = list(fdist.keys())\n",
      "    print(year, vocab[:25])\n",
      "    break"
     ],
     "language": "python",
     "metadata": {},
     "outputs": [
      {
       "output_type": "stream",
       "stream": "stdout",
       "text": [
        "1996 ['j', 'y', 'i', 'G', 'M', 'w', 'u', '[', \"'\", 'n', 'h', '3', 'J', 'D', '{', '#', '/', 'k', 'T', ';', 'b', '<', 'R', 'O', 's']\n"
       ]
      }
     ],
     "prompt_number": 19
    },
    {
     "cell_type": "code",
     "collapsed": false,
     "input": [],
     "language": "python",
     "metadata": {},
     "outputs": [],
     "prompt_number": 19
    }
   ],
   "metadata": {}
  }
 ]
}