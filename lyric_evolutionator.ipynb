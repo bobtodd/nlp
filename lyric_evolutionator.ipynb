{
 "metadata": {
  "name": "",
  "signature": "sha256:28522fecd13e1594eac98dfb604951212b91d186d0124df8827c4bbba5ed125b"
 },
 "nbformat": 3,
 "nbformat_minor": 0,
 "worksheets": [
  {
   "cells": [
    {
     "cell_type": "markdown",
     "metadata": {},
     "source": [
      "# Hip Hop Lyric Evolutionator"
     ]
    },
    {
     "cell_type": "markdown",
     "metadata": {},
     "source": [
      "## Origin"
     ]
    },
    {
     "cell_type": "markdown",
     "metadata": {},
     "source": [
      "Hip Hop used to be one of my all-time favorite music genres.  But I recently listened to a list of the current Top 100 Hip Hop songs, and the lyrics appeared so devoid of content, so obsessed with booty and bling, so stinkin' crude, that it got me thinking: am I just old and out of touch, or has Hip Hop really changed in its content?  This project is one way of trying to answer the question."
     ]
    },
    {
     "cell_type": "markdown",
     "metadata": {},
     "source": [
      "## Description"
     ]
    },
    {
     "cell_type": "markdown",
     "metadata": {},
     "source": [
      "My plan is to look at the lyrics of the top Hip Hop songs over some range of time (whatever range I can find with available data bases), figure out the most common (content-ful) words, and look at how these words change over time."
     ]
    },
    {
     "cell_type": "markdown",
     "metadata": {},
     "source": [
      "## Plan"
     ]
    },
    {
     "cell_type": "markdown",
     "metadata": {},
     "source": [
      "Here's the basic plan of action:\n",
      "\n",
      "* Get lists of top Hip Hop songs over the years\n",
      "* Get lyrics for each song\n",
      "* Tokenize lyrics (remove stop-words)\n",
      "* Calculate frequency of each token\n",
      "* Restrict to highest frequency tokens\n",
      "* Repeat for each song in a given year\n",
      "* Create word clouds for each year\n",
      "* Splice word clouds year by year into a movie"
     ]
    },
    {
     "cell_type": "markdown",
     "metadata": {},
     "source": [
      "## Dependencies"
     ]
    },
    {
     "cell_type": "markdown",
     "metadata": {},
     "source": [
      "* [Beautiful Soup](http://www.crummy.com/software/BeautifulSoup/bs4/doc/)\n",
      "* [NLTK](http://www.nltk.org/)"
     ]
    },
    {
     "cell_type": "markdown",
     "metadata": {},
     "source": [
      "## Sources"
     ]
    },
    {
     "cell_type": "markdown",
     "metadata": {},
     "source": [
      "* [Rap Lyrics Database](http://research.blackyouthproject.com/raplyrics/)"
     ]
    },
    {
     "cell_type": "markdown",
     "metadata": {},
     "source": [
      "## Code"
     ]
    },
    {
     "cell_type": "markdown",
     "metadata": {},
     "source": [
      "### Set Up"
     ]
    },
    {
     "cell_type": "markdown",
     "metadata": {},
     "source": [
      "We need to start out by importing the tools we'll need to munge data.  Mainly that's Beautiful Soup and NLTK."
     ]
    },
    {
     "cell_type": "code",
     "collapsed": false,
     "input": [
      "from bs4 import BeautifulSoup\n",
      "import nltk\n",
      "import urllib.request"
     ],
     "language": "python",
     "metadata": {},
     "outputs": []
    },
    {
     "cell_type": "markdown",
     "metadata": {},
     "source": [
      "### Data"
     ]
    },
    {
     "cell_type": "markdown",
     "metadata": {},
     "source": [
      "Next we actually need to pull down a list of the songs we'll be looking at."
     ]
    },
    {
     "cell_type": "code",
     "collapsed": false,
     "input": [
      "rappage = urllib.request.urlopen(http://research.blackyouthproject.com/raplyrics/)\n",
      "soup = BeautifulSoup(rappage)\n",
      "songlist = soup.find(id=\"song_list\")"
     ],
     "language": "python",
     "metadata": {},
     "outputs": []
    }
   ],
   "metadata": {}
  }
 ]
}