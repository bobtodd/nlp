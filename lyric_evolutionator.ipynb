{
 "metadata": {
  "name": "",
  "signature": "sha256:83411a98457eb5d9e30b20cf89d2452f0bc1d348787c49035644a0617de0c097"
 },
 "nbformat": 3,
 "nbformat_minor": 0,
 "worksheets": [
  {
   "cells": [
    {
     "cell_type": "markdown",
     "metadata": {},
     "source": [
      "# Hip Hop Lyric Evolutionator"
     ]
    },
    {
     "cell_type": "markdown",
     "metadata": {},
     "source": [
      "## Origin"
     ]
    },
    {
     "cell_type": "markdown",
     "metadata": {},
     "source": [
      "Hip Hop used to be one of my all-time favorite music genres.  But I recently listened to a list of the current Top 100 Hip Hop songs, and the lyrics appeared so devoid of content, so obsessed with booty and bling, so stinkin' crude, that it got me thinking: am I just old and out of touch, or has Hip Hop really changed in its content?  This project is one way of trying to answer the question."
     ]
    },
    {
     "cell_type": "markdown",
     "metadata": {},
     "source": [
      "## Description"
     ]
    },
    {
     "cell_type": "markdown",
     "metadata": {},
     "source": [
      "My plan is to look at the lyrics of the top Hip Hop songs over some range of time (whatever range I can find with available data bases), figure out the most common (content-ful) words, and look at how these words change over time."
     ]
    },
    {
     "cell_type": "markdown",
     "metadata": {},
     "source": [
      "## Plan"
     ]
    },
    {
     "cell_type": "markdown",
     "metadata": {},
     "source": [
      "Here's the basic plan of action:\n",
      "\n",
      "* Get lists of top Hip Hop songs over the years\n",
      "* Get lyrics for each song\n",
      "* Tokenize lyrics (remove stop-words)\n",
      "* Calculate frequency of each token\n",
      "* Restrict to highest frequency tokens\n",
      "* Repeat for each song in a given year\n",
      "* Create word clouds for each year\n",
      "* Splice word clouds year by year into a movie"
     ]
    },
    {
     "cell_type": "markdown",
     "metadata": {},
     "source": [
      "## Dependencies"
     ]
    },
    {
     "cell_type": "markdown",
     "metadata": {},
     "source": [
      "* [Beautiful Soup](http://www.crummy.com/software/BeautifulSoup/bs4/doc/)\n",
      "* [NLTK](http://www.nltk.org/)"
     ]
    },
    {
     "cell_type": "markdown",
     "metadata": {},
     "source": [
      "## Sources"
     ]
    },
    {
     "cell_type": "markdown",
     "metadata": {},
     "source": [
      "* [Rap Lyrics Database](http://research.blackyouthproject.com/raplyrics/)"
     ]
    },
    {
     "cell_type": "markdown",
     "metadata": {},
     "source": [
      "## Code"
     ]
    },
    {
     "cell_type": "markdown",
     "metadata": {},
     "source": [
      "### Set Up"
     ]
    },
    {
     "cell_type": "markdown",
     "metadata": {},
     "source": [
      "We need to start out by importing the tools we'll need to munge data.  Mainly that's Beautiful Soup and NLTK."
     ]
    },
    {
     "cell_type": "code",
     "collapsed": false,
     "input": [
      "from bs4 import BeautifulSoup\n",
      "import nltk\n",
      "import urllib.request\n",
      "import re\n",
      "import pprint\n",
      "import pickle\n",
      "import os\n",
      "import copy"
     ],
     "language": "python",
     "metadata": {},
     "outputs": [],
     "prompt_number": 1
    },
    {
     "cell_type": "markdown",
     "metadata": {},
     "source": [
      "### Data"
     ]
    },
    {
     "cell_type": "markdown",
     "metadata": {},
     "source": [
      "Next we actually need to pull down a list of the songs we'll be looking at."
     ]
    },
    {
     "cell_type": "code",
     "collapsed": false,
     "input": [
      "rapurl  = \"http://research.blackyouthproject.com/raplyrics/\"\n",
      "baseurl = rapurl + \"song/?/\"\n",
      "download_now = True"
     ],
     "language": "python",
     "metadata": {},
     "outputs": [],
     "prompt_number": 2
    },
    {
     "cell_type": "code",
     "collapsed": false,
     "input": [
      "homedir   = os.path.expanduser(\"~\")\n",
      "curdir    = os.curdir\n",
      "datadir   = curdir + '/' + 'data'\n",
      "tmpdir    = curdir + '/' + 'tmp'\n",
      "dfilename = 'lyrics.p'\n",
      "saveddata = datadir + '/' + dfilename"
     ],
     "language": "python",
     "metadata": {},
     "outputs": [],
     "prompt_number": 3
    },
    {
     "cell_type": "code",
     "collapsed": false,
     "input": [
      "pp = pprint.PrettyPrinter(indent=4)"
     ],
     "language": "python",
     "metadata": {},
     "outputs": []
    },
    {
     "cell_type": "code",
     "collapsed": false,
     "input": [
      "def get_song_list(rappage=\"http://research.blackyouthproject.com/raplyrics/\"):\n",
      "    soup = BeautifulSoup(urllib.request.urlopen(rappage))\n",
      "    return soup.find(id=\"song_list\")"
     ],
     "language": "python",
     "metadata": {},
     "outputs": [],
     "prompt_number": 4
    },
    {
     "cell_type": "code",
     "collapsed": false,
     "input": [
      "songlist = None\n",
      "if download_now:\n",
      "    songlist = get_song_list()\n",
      "    # print(songlist.prettify())"
     ],
     "language": "python",
     "metadata": {},
     "outputs": [],
     "prompt_number": 5
    },
    {
     "cell_type": "code",
     "collapsed": false,
     "input": [
      "def get_song_links(songlst):\n",
      "    # songlst must be a BeautifulSoup object\n",
      "    \n",
      "    # Get link to each song from 'href'\n",
      "    # Also get song title and artist,\n",
      "    # pack these into 3-element lists\n",
      "    linksdata = [[element.a.get('href'), \\\n",
      "                  element.a.get_text(), \\\n",
      "                  re.split('by ', element.get_text())[-1] \\\n",
      "                  ] \\\n",
      "                     for element in songlst.find_all('li')]\n",
      "    \n",
      "    # Create a data base in memory of (key, value) pairs,\n",
      "    # where\n",
      "    #   key   = song number in Rap Lyrics data base\n",
      "    #   value = a dictionary with song title and artist name\n",
      "    lnks = {}\n",
      "    for lst in linksdata:\n",
      "        songnumber = re.findall('\\d+$', lst[0])[-1]\n",
      "        lnks[songnumber] = {'title':lst[1], 'artist':lst[-1]}\n",
      "    \n",
      "    return lnks"
     ],
     "language": "python",
     "metadata": {},
     "outputs": [],
     "prompt_number": 6
    },
    {
     "cell_type": "code",
     "collapsed": false,
     "input": [
      "links = None\n",
      "if songlist:\n",
      "    links = get_song_links(songlist)\n",
      "    # print(links)"
     ],
     "language": "python",
     "metadata": {},
     "outputs": [],
     "prompt_number": 7
    },
    {
     "cell_type": "code",
     "collapsed": false,
     "input": [
      "def get_lyrics(lnks,\n",
      "               url='http://research.blackyouthproject.com/raplyrics/song/?/',\n",
      "               maximum=5000,\n",
      "               verbose=False):\n",
      "    lks = copy.deepcopy(lnks)\n",
      "    count = 0\n",
      "    for key in lks.keys():\n",
      "        songurl = url + key\n",
      "        songpage = urllib.request.urlopen(songurl)\n",
      "        if songpage:\n",
      "            songsoup = BeautifulSoup(songpage)\n",
      "        else:\n",
      "            continue\n",
      "    \n",
      "        frontmatter = songsoup.find_all('p', class_=\"song_details\")\n",
      "\n",
      "        if frontmatter:\n",
      "            year = re.findall('\\d{1,4}$', frontmatter[0].text)\n",
      "            words = songsoup.find_all('div', class_='lyrics')\n",
      "            lks[key]['year'] = year[0]\n",
      "            lks[key]['lyrics'] = words[0].text\n",
      "    \n",
      "        if count > maximum:\n",
      "            break\n",
      "    \n",
      "        if verbose and (count%100 == 0):\n",
      "            print('Downloaded {} songs'.format(count))\n",
      "    \n",
      "        count += 1\n",
      "    \n",
      "    return lks"
     ],
     "language": "python",
     "metadata": {},
     "outputs": [],
     "prompt_number": 8
    },
    {
     "cell_type": "code",
     "collapsed": false,
     "input": [
      "# pp.pprint(links)"
     ],
     "language": "python",
     "metadata": {},
     "outputs": [],
     "prompt_number": 9
    },
    {
     "cell_type": "code",
     "collapsed": false,
     "input": [
      "def save_data(lnks, filename=dfilename, folder=datadir):\n",
      "    if not os.path.isdir(folder):\n",
      "        os.makedirs(folder)\n",
      "    \n",
      "    savedfile = folder + '/' + filename\n",
      "    pickle.dump( lnks, open(savedfile, 'wb') )"
     ],
     "language": "python",
     "metadata": {},
     "outputs": [],
     "prompt_number": 10
    },
    {
     "cell_type": "code",
     "collapsed": false,
     "input": [
      "lyrics = None\n",
      "if download_now:\n",
      "    lyrics = get_lyrics(links, maximum=5000, verbose=True)\n",
      "    save_data(lyrics)\n",
      "else:\n",
      "    lyrics = pickle.load( open(saveddata, 'rb') )"
     ],
     "language": "python",
     "metadata": {},
     "outputs": [
      {
       "output_type": "stream",
       "stream": "stdout",
       "text": [
        "Downloaded 0 songs\n",
        "Downloaded 100 songs"
       ]
      },
      {
       "output_type": "stream",
       "stream": "stdout",
       "text": [
        "\n",
        "Downloaded 200 songs"
       ]
      },
      {
       "output_type": "stream",
       "stream": "stdout",
       "text": [
        "\n",
        "Downloaded 300 songs"
       ]
      },
      {
       "output_type": "stream",
       "stream": "stdout",
       "text": [
        "\n",
        "Downloaded 400 songs"
       ]
      },
      {
       "output_type": "stream",
       "stream": "stdout",
       "text": [
        "\n",
        "Downloaded 500 songs"
       ]
      },
      {
       "output_type": "stream",
       "stream": "stdout",
       "text": [
        "\n",
        "Downloaded 600 songs"
       ]
      },
      {
       "output_type": "stream",
       "stream": "stdout",
       "text": [
        "\n",
        "Downloaded 700 songs"
       ]
      },
      {
       "output_type": "stream",
       "stream": "stdout",
       "text": [
        "\n",
        "Downloaded 800 songs"
       ]
      },
      {
       "output_type": "stream",
       "stream": "stdout",
       "text": [
        "\n",
        "Downloaded 900 songs"
       ]
      },
      {
       "output_type": "stream",
       "stream": "stdout",
       "text": [
        "\n",
        "Downloaded 1000 songs"
       ]
      },
      {
       "output_type": "stream",
       "stream": "stdout",
       "text": [
        "\n",
        "Downloaded 1100 songs"
       ]
      },
      {
       "output_type": "stream",
       "stream": "stdout",
       "text": [
        "\n",
        "Downloaded 1200 songs"
       ]
      },
      {
       "output_type": "stream",
       "stream": "stdout",
       "text": [
        "\n",
        "Downloaded 1300 songs"
       ]
      },
      {
       "output_type": "stream",
       "stream": "stdout",
       "text": [
        "\n",
        "Downloaded 1400 songs"
       ]
      },
      {
       "output_type": "stream",
       "stream": "stdout",
       "text": [
        "\n",
        "Downloaded 1500 songs"
       ]
      },
      {
       "output_type": "stream",
       "stream": "stdout",
       "text": [
        "\n",
        "Downloaded 1600 songs"
       ]
      },
      {
       "output_type": "stream",
       "stream": "stdout",
       "text": [
        "\n",
        "Downloaded 1700 songs"
       ]
      },
      {
       "output_type": "stream",
       "stream": "stdout",
       "text": [
        "\n",
        "Downloaded 1800 songs"
       ]
      },
      {
       "output_type": "stream",
       "stream": "stdout",
       "text": [
        "\n",
        "Downloaded 1900 songs"
       ]
      },
      {
       "output_type": "stream",
       "stream": "stdout",
       "text": [
        "\n",
        "Downloaded 2000 songs"
       ]
      },
      {
       "output_type": "stream",
       "stream": "stdout",
       "text": [
        "\n",
        "Downloaded 2100 songs"
       ]
      },
      {
       "output_type": "stream",
       "stream": "stdout",
       "text": [
        "\n",
        "Downloaded 2200 songs"
       ]
      },
      {
       "output_type": "stream",
       "stream": "stdout",
       "text": [
        "\n",
        "Downloaded 2300 songs"
       ]
      },
      {
       "output_type": "stream",
       "stream": "stdout",
       "text": [
        "\n",
        "Downloaded 2400 songs"
       ]
      },
      {
       "output_type": "stream",
       "stream": "stdout",
       "text": [
        "\n",
        "Downloaded 2500 songs"
       ]
      },
      {
       "output_type": "stream",
       "stream": "stdout",
       "text": [
        "\n",
        "Downloaded 2600 songs"
       ]
      },
      {
       "output_type": "stream",
       "stream": "stdout",
       "text": [
        "\n",
        "Downloaded 2700 songs"
       ]
      },
      {
       "output_type": "stream",
       "stream": "stdout",
       "text": [
        "\n",
        "Downloaded 2800 songs"
       ]
      },
      {
       "output_type": "stream",
       "stream": "stdout",
       "text": [
        "\n",
        "Downloaded 2900 songs"
       ]
      },
      {
       "output_type": "stream",
       "stream": "stdout",
       "text": [
        "\n"
       ]
      }
     ],
     "prompt_number": 11
    },
    {
     "cell_type": "code",
     "collapsed": false,
     "input": [
      "# pp.pprint(lyrics)"
     ],
     "language": "python",
     "metadata": {},
     "outputs": [],
     "prompt_number": 12
    },
    {
     "cell_type": "code",
     "collapsed": false,
     "input": [],
     "language": "python",
     "metadata": {},
     "outputs": [],
     "prompt_number": 12
    }
   ],
   "metadata": {}
  }
 ]
}