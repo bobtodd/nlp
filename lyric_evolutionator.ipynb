{
 "metadata": {
  "name": "",
  "signature": "sha256:2339d34e50d147d527fd1a5505efdde364a8768c279a850e8c2225db7d597e71"
 },
 "nbformat": 3,
 "nbformat_minor": 0,
 "worksheets": [
  {
   "cells": [
    {
     "cell_type": "markdown",
     "metadata": {},
     "source": [
      "# Hip Hop Lyric Evolutionator"
     ]
    },
    {
     "cell_type": "markdown",
     "metadata": {},
     "source": [
      "## Origin"
     ]
    },
    {
     "cell_type": "markdown",
     "metadata": {},
     "source": [
      "Hip Hop used to be one of my all-time favorite music genres.  But I recently listened to a list of the current Top 100 Hip Hop songs, and the lyrics appeared so devoid of content, so obsessed with booty and bling, so stinkin' crude, that it got me thinking: am I just old and out of touch, or has Hip Hop really changed in its content?  This project is one way of trying to answer the question."
     ]
    },
    {
     "cell_type": "markdown",
     "metadata": {},
     "source": [
      "## Description"
     ]
    },
    {
     "cell_type": "markdown",
     "metadata": {},
     "source": [
      "My plan is to look at the lyrics of the top Hip Hop songs over some range of time (whatever range I can find with available data bases), figure out the most common (content-ful) words, and look at how these words change over time."
     ]
    },
    {
     "cell_type": "markdown",
     "metadata": {},
     "source": [
      "## Plan"
     ]
    },
    {
     "cell_type": "markdown",
     "metadata": {},
     "source": [
      "Here's the basic plan of action:\n",
      "\n",
      "* Get lists of top Hip Hop songs over the years\n",
      "* Get lyrics for each song\n",
      "* Tokenize lyrics (remove stop-words)\n",
      "* Calculate frequency of each token\n",
      "* Restrict to highest frequency tokens\n",
      "* Repeat for each song in a given year\n",
      "* Create word clouds for each year\n",
      "* Splice word clouds year by year into a movie"
     ]
    },
    {
     "cell_type": "markdown",
     "metadata": {},
     "source": [
      "## Dependencies"
     ]
    },
    {
     "cell_type": "markdown",
     "metadata": {},
     "source": [
      "* [Beautiful Soup](http://www.crummy.com/software/BeautifulSoup/bs4/doc/)\n",
      "* [NLTK](http://www.nltk.org/)"
     ]
    },
    {
     "cell_type": "markdown",
     "metadata": {},
     "source": [
      "## Sources"
     ]
    },
    {
     "cell_type": "markdown",
     "metadata": {},
     "source": [
      "* [Rap Lyrics Database](http://research.blackyouthproject.com/raplyrics/)"
     ]
    },
    {
     "cell_type": "markdown",
     "metadata": {},
     "source": [
      "## Code"
     ]
    },
    {
     "cell_type": "markdown",
     "metadata": {},
     "source": [
      "### Set Up"
     ]
    },
    {
     "cell_type": "markdown",
     "metadata": {},
     "source": [
      "We need to start out by importing the tools we'll need to munge data.  Mainly that's Beautiful Soup and NLTK."
     ]
    },
    {
     "cell_type": "code",
     "collapsed": false,
     "input": [
      "from bs4 import BeautifulSoup\n",
      "import nltk\n",
      "import urllib.request\n",
      "import re\n",
      "import pprint\n",
      "import pickle\n",
      "import os\n",
      "import copy"
     ],
     "language": "python",
     "metadata": {},
     "outputs": [],
     "prompt_number": 1
    },
    {
     "cell_type": "markdown",
     "metadata": {},
     "source": [
      "### Data"
     ]
    },
    {
     "cell_type": "markdown",
     "metadata": {},
     "source": [
      "Next we actually need to pull down a list of the songs we'll be looking at. The next few cells set up some parameters that will be useful."
     ]
    },
    {
     "cell_type": "code",
     "collapsed": false,
     "input": [
      "rapurl  = \"http://research.blackyouthproject.com/raplyrics/\"\n",
      "baseurl = rapurl + \"song/?/\"\n",
      "#download_now = True\n",
      "download_now = False"
     ],
     "language": "python",
     "metadata": {},
     "outputs": [],
     "prompt_number": 2
    },
    {
     "cell_type": "code",
     "collapsed": false,
     "input": [
      "homedir   = os.path.expanduser(\"~\")\n",
      "curdir    = os.curdir\n",
      "datadir   = curdir + '/' + 'data'\n",
      "tmpdir    = curdir + '/' + 'tmp'\n",
      "dfilename = 'lyrics.p'\n",
      "saveddata = datadir + '/' + dfilename"
     ],
     "language": "python",
     "metadata": {},
     "outputs": [],
     "prompt_number": 3
    },
    {
     "cell_type": "code",
     "collapsed": false,
     "input": [
      "pp = pprint.PrettyPrinter(indent=4)"
     ],
     "language": "python",
     "metadata": {},
     "outputs": []
    },
    {
     "cell_type": "markdown",
     "metadata": {},
     "source": [
      "Here we start to encapsulate some of the logic in functions.  The point is, we need to scrape the web to get the song lyrics.  But once we've done that and saved the results, we don't need to do it again.  So we'll create some functions that do the dirty work, and then we'll only call them if we actually need to download.\n",
      "\n",
      "As it turns out, the main page of the Rap Lyrics project has links to the songs encoded directly in the HTML.  So we can just get the links to the songs straight away."
     ]
    },
    {
     "cell_type": "code",
     "collapsed": false,
     "input": [
      "def get_song_list(rappage=\"http://research.blackyouthproject.com/raplyrics/\"):\n",
      "    soup = BeautifulSoup(urllib.request.urlopen(rappage))\n",
      "    return soup.find(id=\"song_list\")"
     ],
     "language": "python",
     "metadata": {},
     "outputs": [],
     "prompt_number": 4
    },
    {
     "cell_type": "code",
     "collapsed": false,
     "input": [
      "songlist = None\n",
      "if download_now:\n",
      "    songlist = get_song_list()\n",
      "    # print(songlist.prettify())"
     ],
     "language": "python",
     "metadata": {},
     "outputs": [],
     "prompt_number": 5
    },
    {
     "cell_type": "markdown",
     "metadata": {},
     "source": [
      "To get the lyrics to the individual songs, we need to go to the individual song pages.  Each has a separate URL, so we scrape that from the HTML of the main page.  While we're at it, we take the opportunity to get the song name an artist.  We pile all this info into a Python `dict`, with the Rap Lyrics data base ID as the key for each song."
     ]
    },
    {
     "cell_type": "code",
     "collapsed": false,
     "input": [
      "def get_song_links(songlst):\n",
      "    # songlst must be a BeautifulSoup object\n",
      "    \n",
      "    # Get link to each song from 'href'\n",
      "    # Also get song title and artist,\n",
      "    # pack these into 3-element lists\n",
      "    linksdata = [[element.a.get('href'), \\\n",
      "                  element.a.get_text(), \\\n",
      "                  re.split('by ', element.get_text())[-1] \\\n",
      "                  ] \\\n",
      "                     for element in songlst.find_all('li')]\n",
      "    \n",
      "    # Create a data base in memory of (key, value) pairs,\n",
      "    # where\n",
      "    #   key   = song number in Rap Lyrics data base\n",
      "    #   value = a dictionary with song title and artist name\n",
      "    lnks = {}\n",
      "    for lst in linksdata:\n",
      "        songnumber = re.findall('\\d+$', lst[0])[-1]\n",
      "        lnks[songnumber] = {'title':lst[1], 'artist':lst[-1]}\n",
      "    \n",
      "    return lnks"
     ],
     "language": "python",
     "metadata": {},
     "outputs": [],
     "prompt_number": 6
    },
    {
     "cell_type": "code",
     "collapsed": false,
     "input": [
      "links = None\n",
      "if songlist:\n",
      "    links = get_song_links(songlist)\n",
      "    # print(links)"
     ],
     "language": "python",
     "metadata": {},
     "outputs": [],
     "prompt_number": 7
    },
    {
     "cell_type": "markdown",
     "metadata": {},
     "source": [
      "Now we're ready to scrape the lyrics.  This involves going to each page, searching for the `div` containing the lyrics, and saving the text.  We also get the song's year of release by scraping the last four digits of the last line of the `song_details`."
     ]
    },
    {
     "cell_type": "code",
     "collapsed": false,
     "input": [
      "def get_lyrics(lnks,\n",
      "               url='http://research.blackyouthproject.com/raplyrics/song/?/',\n",
      "               maximum=5000,\n",
      "               verbose=False):\n",
      "    # We'll be modifying the dictionary lnks that's passed to the function\n",
      "    # So as to not break anything outside the function, we'll do a deep copy\n",
      "    lks = copy.deepcopy(lnks)\n",
      "    \n",
      "    count = 0\n",
      "    for key in lks.keys():\n",
      "        songurl = url + key\n",
      "        songpage = urllib.request.urlopen(songurl)\n",
      "        if songpage:\n",
      "            songsoup = BeautifulSoup(songpage)\n",
      "        else:\n",
      "            continue\n",
      "    \n",
      "        frontmatter = songsoup.find_all('p', class_=\"song_details\")\n",
      "\n",
      "        if frontmatter:\n",
      "            year = re.findall('\\d{1,4}$', frontmatter[0].text)\n",
      "            words = songsoup.find_all('div', class_='lyrics')\n",
      "            lks[key]['year'] = year[0]\n",
      "            lks[key]['lyrics'] = words[0].text\n",
      "    \n",
      "        if count > maximum:\n",
      "            break\n",
      "    \n",
      "        if verbose and (count%100 == 0):\n",
      "            print('Downloaded {} songs'.format(count))\n",
      "    \n",
      "        count += 1\n",
      "    \n",
      "    return lks"
     ],
     "language": "python",
     "metadata": {},
     "outputs": [],
     "prompt_number": 8
    },
    {
     "cell_type": "code",
     "collapsed": false,
     "input": [
      "# pp.pprint(links)"
     ],
     "language": "python",
     "metadata": {},
     "outputs": [],
     "prompt_number": 9
    },
    {
     "cell_type": "markdown",
     "metadata": {},
     "source": [
      "Once we've scraped all the song lyrics and loaded them into a Python `dict`, we'll want to save that `dict` for later use.  To save the object structure and reduce file size, we'll pickle the data."
     ]
    },
    {
     "cell_type": "code",
     "collapsed": false,
     "input": [
      "def save_data(lnks, filename=dfilename, folder=datadir):\n",
      "    if not os.path.isdir(folder):\n",
      "        os.makedirs(folder)\n",
      "    \n",
      "    savedfile = folder + '/' + filename\n",
      "    pickle.dump( lnks, open(savedfile, 'wb') )"
     ],
     "language": "python",
     "metadata": {},
     "outputs": [],
     "prompt_number": 10
    },
    {
     "cell_type": "markdown",
     "metadata": {},
     "source": [
      "So if we need to download, we'll start the process and save the result.  Otherwise, we'll assume the process has already been done, and we'll just unpickle the data from the previous run."
     ]
    },
    {
     "cell_type": "code",
     "collapsed": false,
     "input": [
      "lyrics = None\n",
      "if download_now:\n",
      "    lyrics = get_lyrics(links, maximum=5000, verbose=True)\n",
      "    save_data(lyrics)\n",
      "else:\n",
      "    lyrics = pickle.load( open(saveddata, 'rb') )"
     ],
     "language": "python",
     "metadata": {},
     "outputs": [
      {
       "output_type": "stream",
       "stream": "stdout",
       "text": [
        "Downloaded 0 songs\n",
        "Downloaded 100 songs"
       ]
      },
      {
       "output_type": "stream",
       "stream": "stdout",
       "text": [
        "\n",
        "Downloaded 200 songs"
       ]
      },
      {
       "output_type": "stream",
       "stream": "stdout",
       "text": [
        "\n",
        "Downloaded 300 songs"
       ]
      },
      {
       "output_type": "stream",
       "stream": "stdout",
       "text": [
        "\n",
        "Downloaded 400 songs"
       ]
      },
      {
       "output_type": "stream",
       "stream": "stdout",
       "text": [
        "\n",
        "Downloaded 500 songs"
       ]
      },
      {
       "output_type": "stream",
       "stream": "stdout",
       "text": [
        "\n",
        "Downloaded 600 songs"
       ]
      },
      {
       "output_type": "stream",
       "stream": "stdout",
       "text": [
        "\n",
        "Downloaded 700 songs"
       ]
      },
      {
       "output_type": "stream",
       "stream": "stdout",
       "text": [
        "\n",
        "Downloaded 800 songs"
       ]
      },
      {
       "output_type": "stream",
       "stream": "stdout",
       "text": [
        "\n",
        "Downloaded 900 songs"
       ]
      },
      {
       "output_type": "stream",
       "stream": "stdout",
       "text": [
        "\n",
        "Downloaded 1000 songs"
       ]
      },
      {
       "output_type": "stream",
       "stream": "stdout",
       "text": [
        "\n",
        "Downloaded 1100 songs"
       ]
      },
      {
       "output_type": "stream",
       "stream": "stdout",
       "text": [
        "\n",
        "Downloaded 1200 songs"
       ]
      },
      {
       "output_type": "stream",
       "stream": "stdout",
       "text": [
        "\n",
        "Downloaded 1300 songs"
       ]
      },
      {
       "output_type": "stream",
       "stream": "stdout",
       "text": [
        "\n",
        "Downloaded 1400 songs"
       ]
      },
      {
       "output_type": "stream",
       "stream": "stdout",
       "text": [
        "\n",
        "Downloaded 1500 songs"
       ]
      },
      {
       "output_type": "stream",
       "stream": "stdout",
       "text": [
        "\n",
        "Downloaded 1600 songs"
       ]
      },
      {
       "output_type": "stream",
       "stream": "stdout",
       "text": [
        "\n",
        "Downloaded 1700 songs"
       ]
      },
      {
       "output_type": "stream",
       "stream": "stdout",
       "text": [
        "\n",
        "Downloaded 1800 songs"
       ]
      },
      {
       "output_type": "stream",
       "stream": "stdout",
       "text": [
        "\n",
        "Downloaded 1900 songs"
       ]
      },
      {
       "output_type": "stream",
       "stream": "stdout",
       "text": [
        "\n",
        "Downloaded 2000 songs"
       ]
      },
      {
       "output_type": "stream",
       "stream": "stdout",
       "text": [
        "\n",
        "Downloaded 2100 songs"
       ]
      },
      {
       "output_type": "stream",
       "stream": "stdout",
       "text": [
        "\n",
        "Downloaded 2200 songs"
       ]
      },
      {
       "output_type": "stream",
       "stream": "stdout",
       "text": [
        "\n",
        "Downloaded 2300 songs"
       ]
      },
      {
       "output_type": "stream",
       "stream": "stdout",
       "text": [
        "\n",
        "Downloaded 2400 songs"
       ]
      },
      {
       "output_type": "stream",
       "stream": "stdout",
       "text": [
        "\n",
        "Downloaded 2500 songs"
       ]
      },
      {
       "output_type": "stream",
       "stream": "stdout",
       "text": [
        "\n",
        "Downloaded 2600 songs"
       ]
      },
      {
       "output_type": "stream",
       "stream": "stdout",
       "text": [
        "\n",
        "Downloaded 2700 songs"
       ]
      },
      {
       "output_type": "stream",
       "stream": "stdout",
       "text": [
        "\n",
        "Downloaded 2800 songs"
       ]
      },
      {
       "output_type": "stream",
       "stream": "stdout",
       "text": [
        "\n",
        "Downloaded 2900 songs"
       ]
      },
      {
       "output_type": "stream",
       "stream": "stdout",
       "text": [
        "\n"
       ]
      }
     ],
     "prompt_number": 11
    },
    {
     "cell_type": "markdown",
     "metadata": {},
     "source": [
      "That should do it.  We should now have a data base of song lyrics in the form of a (nested) Python dictionary.  The data for a typical song should look like this:\n",
      "\n",
      "    {\n",
      "      '89':\n",
      "          {\n",
      "              'title': 'Dear Mama/Old School',\n",
      "              'artist': '2Pac',\n",
      "              'year': '1995',\n",
      "              'lyrics': 'Artist: 2Pac\n",
      "                  Album: Me Against the World\n",
      "                  Song: Dear Mama\n",
      "                  Typed by: OHHLA Webmaster DJ Flash\n",
      "                  You are appreciated\n",
      "                  Verse One: 2Pac\n",
      "                  When I was young me and my mama had beef\n",
      "                  Seventeen years old kicked out on the streets\n",
      "                  ...'\n",
      "          }\n",
      "      ...\n",
      "    }\n",
      "\n",
      "Hopefully you get the gist.  One thing to keep in mind is that some song data (artist, album, etc.) is also included in the lyrics.  Unfortunately this is neither consistently present nor consistently written when included throughout the songs in the data base.  So there's no easy way to get rid of it.  However if we end up doing statistics on the lyrics, we can remove these words from consideration."
     ]
    },
    {
     "cell_type": "code",
     "collapsed": false,
     "input": [
      "# pp.pprint(lyrics)"
     ],
     "language": "python",
     "metadata": {},
     "outputs": [],
     "prompt_number": 12
    },
    {
     "cell_type": "code",
     "collapsed": false,
     "input": [],
     "language": "python",
     "metadata": {},
     "outputs": [],
     "prompt_number": 12
    }
   ],
   "metadata": {}
  }
 ]
}